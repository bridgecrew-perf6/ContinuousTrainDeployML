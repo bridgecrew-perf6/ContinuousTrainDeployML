{
 "cells": [
  {
   "cell_type": "code",
   "execution_count": 2,
   "metadata": {},
   "outputs": [
    {
     "ename": "ModuleNotFoundError",
     "evalue": "No module named 'utils.simulation_utils'",
     "output_type": "error",
     "traceback": [
      "\u001b[0;31m---------------------------------------------------------------------------\u001b[0m",
      "\u001b[0;31mModuleNotFoundError\u001b[0m                       Traceback (most recent call last)",
      "\u001b[1;32m/Users/tournemonde/Documents/10.GitHub/01.OwnRepos/ContinuousTrainDeployML/data-api/check.ipynb Cell 1'\u001b[0m in \u001b[0;36m<cell line: 1>\u001b[0;34m()\u001b[0m\n\u001b[0;32m----> <a href='vscode-notebook-cell:/Users/tournemonde/Documents/10.GitHub/01.OwnRepos/ContinuousTrainDeployML/data-api/check.ipynb#ch0000000?line=0'>1</a>\u001b[0m \u001b[39mimport\u001b[39;00m \u001b[39mutils\u001b[39;00m\u001b[39m.\u001b[39;00m\u001b[39msimulation_utils\u001b[39;00m \u001b[39mas\u001b[39;00m \u001b[39msim\u001b[39;00m\n",
      "\u001b[0;31mModuleNotFoundError\u001b[0m: No module named 'utils.simulation_utils'"
     ]
    }
   ],
   "source": [
    "import utils.simulation_utils as sim"
   ]
  },
  {
   "cell_type": "code",
   "execution_count": 1,
   "metadata": {},
   "outputs": [
    {
     "ename": "NameError",
     "evalue": "name 'sim' is not defined",
     "output_type": "error",
     "traceback": [
      "\u001b[0;31m---------------------------------------------------------------------------\u001b[0m",
      "\u001b[0;31mNameError\u001b[0m                                 Traceback (most recent call last)",
      "\u001b[1;32m/Users/tournemonde/Documents/10.GitHub/01.OwnRepos/ContinuousTrainDeployML/data-api/check.ipynb Cell 2'\u001b[0m in \u001b[0;36m<cell line: 1>\u001b[0;34m()\u001b[0m\n\u001b[0;32m----> <a href='vscode-notebook-cell:/Users/tournemonde/Documents/10.GitHub/01.OwnRepos/ContinuousTrainDeployML/data-api/check.ipynb#ch0000001?line=0'>1</a>\u001b[0m signal \u001b[39m=\u001b[39m sim\u001b[39m.\u001b[39msignals_case_generation(n_transition_steps\u001b[39m=\u001b[39m\u001b[39m500\u001b[39m)\n",
      "\u001b[0;31mNameError\u001b[0m: name 'sim' is not defined"
     ]
    }
   ],
   "source": [
    "signal = sim.signals_case_generation(n_transition_steps=500)\n"
   ]
  },
  {
   "cell_type": "code",
   "execution_count": 4,
   "metadata": {},
   "outputs": [
    {
     "ename": "TypeError",
     "evalue": "'generator' object is not subscriptable",
     "output_type": "error",
     "traceback": [
      "\u001b[0;31m---------------------------------------------------------------------------\u001b[0m",
      "\u001b[0;31mTypeError\u001b[0m                                 Traceback (most recent call last)",
      "\u001b[1;32m/Users/tournemonde/Documents/10.GitHub/01.OwnRepos/ContinuousTrainDeployML/data-api/check.ipynb Cell 3'\u001b[0m in \u001b[0;36m<cell line: 1>\u001b[0;34m()\u001b[0m\n\u001b[1;32m      <a href='vscode-notebook-cell:/Users/tournemonde/Documents/10.GitHub/01.OwnRepos/ContinuousTrainDeployML/data-api/check.ipynb#ch0000002?line=0'>1</a>\u001b[0m \u001b[39mfor\u001b[39;00m _ \u001b[39min\u001b[39;00m \u001b[39mrange\u001b[39m(\u001b[39m5\u001b[39m):\n\u001b[1;32m      <a href='vscode-notebook-cell:/Users/tournemonde/Documents/10.GitHub/01.OwnRepos/ContinuousTrainDeployML/data-api/check.ipynb#ch0000002?line=1'>2</a>\u001b[0m     s \u001b[39m=\u001b[39m sim\u001b[39m.\u001b[39mtimesteps_generator(signal)\n\u001b[0;32m----> <a href='vscode-notebook-cell:/Users/tournemonde/Documents/10.GitHub/01.OwnRepos/ContinuousTrainDeployML/data-api/check.ipynb#ch0000002?line=2'>3</a>\u001b[0m     \u001b[39mprint\u001b[39m(\u001b[39mf\u001b[39m\u001b[39m'\u001b[39m\u001b[39mFirst record \u001b[39m\u001b[39m{\u001b[39;00ms[\u001b[39m0\u001b[39m]\u001b[39m}\u001b[39;00m\u001b[39m. Array with shape \u001b[39m\u001b[39m{\u001b[39;00ms\u001b[39m.\u001b[39mshape\u001b[39m}\u001b[39;00m\u001b[39m'\u001b[39m)\n",
      "\u001b[0;31mTypeError\u001b[0m: 'generator' object is not subscriptable"
     ]
    }
   ],
   "source": [
    "for _ in range(5):\n",
    "    s = sim.timesteps_generator(signal)\n",
    "    print(f'First record {s[0]}. Array with shape {s.shape}')"
   ]
  },
  {
   "cell_type": "code",
   "execution_count": 13,
   "metadata": {},
   "outputs": [
    {
     "ename": "AttributeError",
     "evalue": "module 'utils.simulation_utils' has no attribute 'timesteps_generator'",
     "output_type": "error",
     "traceback": [
      "\u001b[0;31m---------------------------------------------------------------------------\u001b[0m",
      "\u001b[0;31mAttributeError\u001b[0m                            Traceback (most recent call last)",
      "\u001b[1;32m/Users/tournemonde/Documents/10.GitHub/01.OwnRepos/ContinuousTrainDeployML/data-api/check.ipynb Cell 4'\u001b[0m in \u001b[0;36m<cell line: 1>\u001b[0;34m()\u001b[0m\n\u001b[0;32m----> <a href='vscode-notebook-cell:/Users/tournemonde/Documents/10.GitHub/01.OwnRepos/ContinuousTrainDeployML/data-api/check.ipynb#ch0000003?line=0'>1</a>\u001b[0m sim\u001b[39m.\u001b[39;49mtimesteps_generator(signal)\n",
      "\u001b[0;31mAttributeError\u001b[0m: module 'utils.simulation_utils' has no attribute 'timesteps_generator'"
     ]
    }
   ],
   "source": [
    "sim.timesteps_generator(signal)"
   ]
  },
  {
   "cell_type": "code",
   "execution_count": null,
   "metadata": {},
   "outputs": [],
   "source": []
  },
  {
   "cell_type": "code",
   "execution_count": 15,
   "metadata": {},
   "outputs": [
    {
     "ename": "AttributeError",
     "evalue": "module 'utils.simulation_utils' has no attribute 'data_generator'",
     "output_type": "error",
     "traceback": [
      "\u001b[0;31m---------------------------------------------------------------------------\u001b[0m",
      "\u001b[0;31mAttributeError\u001b[0m                            Traceback (most recent call last)",
      "\u001b[1;32m/Users/tournemonde/Documents/10.GitHub/01.OwnRepos/ContinuousTrainDeployML/data-api/check.ipynb Cell 6'\u001b[0m in \u001b[0;36m<cell line: 1>\u001b[0;34m()\u001b[0m\n\u001b[0;32m----> <a href='vscode-notebook-cell:/Users/tournemonde/Documents/10.GitHub/01.OwnRepos/ContinuousTrainDeployML/data-api/check.ipynb#ch0000005?line=0'>1</a>\u001b[0m signal_generator \u001b[39m=\u001b[39m sim\u001b[39m.\u001b[39;49mdata_generator(signal)\n",
      "\u001b[0;31mAttributeError\u001b[0m: module 'utils.simulation_utils' has no attribute 'data_generator'"
     ]
    }
   ],
   "source": [
    "signal_generator = sim.data_generator(signal)"
   ]
  },
  {
   "cell_type": "code",
   "execution_count": 13,
   "metadata": {},
   "outputs": [
    {
     "data": {
      "text/plain": [
       "array([430.98874386, 430.9965111 , 430.50043788, ..., 462.83654266,\n",
       "       462.62559143, 463.101183  ])"
      ]
     },
     "execution_count": 13,
     "metadata": {},
     "output_type": "execute_result"
    }
   ],
   "source": [
    "signal"
   ]
  },
  {
   "cell_type": "code",
   "execution_count": 14,
   "metadata": {},
   "outputs": [
    {
     "data": {
      "text/plain": [
       "(20426,)"
      ]
     },
     "execution_count": 14,
     "metadata": {},
     "output_type": "execute_result"
    }
   ],
   "source": [
    "signal.shape"
   ]
  },
  {
   "cell_type": "code",
   "execution_count": 6,
   "metadata": {},
   "outputs": [],
   "source": [
    "g = sim.data_generator(signal, 5)"
   ]
  },
  {
   "cell_type": "code",
   "execution_count": 17,
   "metadata": {},
   "outputs": [],
   "source": [
    "t = next(g)"
   ]
  },
  {
   "cell_type": "code",
   "execution_count": 19,
   "metadata": {},
   "outputs": [
    {
     "data": {
      "text/plain": [
       "numpy.float64"
      ]
     },
     "execution_count": 19,
     "metadata": {},
     "output_type": "execute_result"
    }
   ],
   "source": [
    "type(t)"
   ]
  },
  {
   "cell_type": "code",
   "execution_count": 9,
   "metadata": {},
   "outputs": [],
   "source": [
    "import numpy as np\n"
   ]
  },
  {
   "cell_type": "code",
   "execution_count": 10,
   "metadata": {},
   "outputs": [],
   "source": [
    "out = np.zeros(10)\n"
   ]
  },
  {
   "cell_type": "code",
   "execution_count": 33,
   "metadata": {},
   "outputs": [],
   "source": [
    "out2 = np.zeros((10,) , dtype=np.float32)"
   ]
  },
  {
   "cell_type": "code",
   "execution_count": 11,
   "metadata": {},
   "outputs": [
    {
     "data": {
      "text/plain": [
       "array([0., 0., 0., 0., 0., 0., 0., 0., 0., 0.])"
      ]
     },
     "execution_count": 11,
     "metadata": {},
     "output_type": "execute_result"
    }
   ],
   "source": [
    "out"
   ]
  },
  {
   "cell_type": "code",
   "execution_count": 12,
   "metadata": {},
   "outputs": [
    {
     "name": "stdout",
     "output_type": "stream",
     "text": [
      "n: 430.996511101037\n",
      "n: 430.50043787818885\n",
      "n: 430.23058530489544\n",
      "n: 429.73349987345847\n",
      "n: 429.27986939194204\n",
      "n: 428.9240048881702\n",
      "n: 428.4861099805606\n",
      "n: 428.8326319220062\n",
      "n: 428.4092676163273\n",
      "n: 428.0280309512558\n"
     ]
    }
   ],
   "source": [
    "for i in range(10):\n",
    "    n = next(g)\n",
    "    print(f'n: {n}')\n",
    "    out[i] = n"
   ]
  },
  {
   "cell_type": "code",
   "execution_count": 13,
   "metadata": {},
   "outputs": [
    {
     "data": {
      "text/plain": [
       "array([430.9965111 , 430.50043788, 430.2305853 , 429.73349987,\n",
       "       429.27986939, 428.92400489, 428.48610998, 428.83263192,\n",
       "       428.40926762, 428.02803095])"
      ]
     },
     "execution_count": 13,
     "metadata": {},
     "output_type": "execute_result"
    }
   ],
   "source": [
    "out"
   ]
  },
  {
   "cell_type": "code",
   "execution_count": 17,
   "metadata": {},
   "outputs": [],
   "source": [
    "def timesteps_generator(data: np.array, start_timestep: int, n_timesteps: int = 5000):\n",
    "        return data[start_timestep: start_timestep + n_timesteps]"
   ]
  },
  {
   "cell_type": "code",
   "execution_count": 24,
   "metadata": {},
   "outputs": [],
   "source": [
    "d = timesteps_generator(signal, 1)"
   ]
  },
  {
   "cell_type": "code",
   "execution_count": 26,
   "metadata": {},
   "outputs": [
    {
     "data": {
      "text/plain": [
       "numpy.ndarray"
      ]
     },
     "execution_count": 26,
     "metadata": {},
     "output_type": "execute_result"
    }
   ],
   "source": [
    "type(d)"
   ]
  },
  {
   "cell_type": "code",
   "execution_count": 27,
   "metadata": {},
   "outputs": [
    {
     "data": {
      "text/plain": [
       "list"
      ]
     },
     "execution_count": 27,
     "metadata": {},
     "output_type": "execute_result"
    }
   ],
   "source": [
    "dl = d.tolist()\n",
    "type(dl)"
   ]
  },
  {
   "cell_type": "code",
   "execution_count": 28,
   "metadata": {},
   "outputs": [
    {
     "data": {
      "text/plain": [
       "[430.996511101037,\n",
       " 430.50043787818885,\n",
       " 430.23058530489544,\n",
       " 429.73349987345847,\n",
       " 429.27986939194204,\n",
       " 428.9240048881702,\n",
       " 428.4861099805606,\n",
       " 428.8326319220062,\n",
       " 428.4092676163273,\n",
       " 428.0280309512558]"
      ]
     },
     "execution_count": 28,
     "metadata": {},
     "output_type": "execute_result"
    }
   ],
   "source": [
    "dl[:10]"
   ]
  },
  {
   "cell_type": "code",
   "execution_count": 30,
   "metadata": {},
   "outputs": [
    {
     "data": {
      "text/plain": [
       "5000"
      ]
     },
     "execution_count": 30,
     "metadata": {},
     "output_type": "execute_result"
    }
   ],
   "source": [
    "d.size"
   ]
  },
  {
   "cell_type": "code",
   "execution_count": null,
   "metadata": {},
   "outputs": [],
   "source": []
  }
 ],
 "metadata": {
  "kernelspec": {
   "display_name": "Python 3.8.13 ('contTrain')",
   "language": "python",
   "name": "python3"
  },
  "language_info": {
   "codemirror_mode": {
    "name": "ipython",
    "version": 3
   },
   "file_extension": ".py",
   "mimetype": "text/x-python",
   "name": "python",
   "nbconvert_exporter": "python",
   "pygments_lexer": "ipython3",
   "version": "3.8.13"
  },
  "orig_nbformat": 4,
  "vscode": {
   "interpreter": {
    "hash": "a361ded3bfafbc8d809a1c9368e178057eb4dabbd392001aa9953d00c9eb4190"
   }
  }
 },
 "nbformat": 4,
 "nbformat_minor": 2
}
